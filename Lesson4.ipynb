{
 "cells": [
  {
   "cell_type": "code",
   "execution_count": 1,
   "metadata": {},
   "outputs": [],
   "source": [
    "import numpy as np\n",
    "from matplotlib import pyplot as plt\n",
    "%matplotlib inline\n",
    "from matplotlib import mlab as mlab\n"
   ]
  },
  {
   "cell_type": "code",
   "execution_count": 2,
   "metadata": {},
   "outputs": [],
   "source": [
    "def move_roulette1():\n",
    "    val = np.random.randint(1,37)\n",
    "    if val == 37: \n",
    "        return False\n",
    "    return val % 2 != 0\n",
    "#функция симуляции европейской рулетки\n"
   ]
  },
  {
   "cell_type": "code",
   "execution_count": 4,
   "metadata": {},
   "outputs": [
    {
     "name": "stdout",
     "output_type": "stream",
     "text": [
      "Win 43 Loss 57 Money 86\n"
     ]
    }
   ],
   "source": [
    "money_total = 100\n",
    "win = 0\n",
    "loss = 0\n",
    "for p in range(100):\n",
    "    bet = 1\n",
    "    step = move_roulette1()\n",
    "    if step is True:\n",
    "        money_total += bet\n",
    "        win += 1\n",
    "    else:\n",
    "        money_total -= bet\n",
    "        loss += 1\n",
    "print (\"Win\", win, \"Loss\", loss, \"Money\", money_total)\n",
    "#не уверена, что правильно поняла вторую часть задания - это симуляция для 100 игр - вероятность проигрыша или победы.\n"
   ]
  },
  {
   "cell_type": "markdown",
   "metadata": {},
   "source": [
    "### Задача 2¶\n",
    "Сгенерируйте десять выборок случайных чисел х0, …, х9. и постройте гистограмму распределения случайной суммы х0+х1+ …+ х9.\n"
   ]
  },
  {
   "cell_type": "code",
   "execution_count": 9,
   "metadata": {},
   "outputs": [
    {
     "data": {
      "image/png": "[encoded data removed]",
      "text/plain": [
       "<Figure size 432x288 with 1 Axes>"
      ]
     },
     "metadata": {
      "needs_background": "light"
     },
     "output_type": "display_data"
    },
    {
     "name": "stdout",
     "output_type": "stream",
     "text": [
      "[40, 31, 2, 65, 96, 49, 48, 58, 55, 67, 98, 78, 13, 82, 55, 36, 53, 53, 62, 57, 37, 53, 50, 62, 45, 55, 17, 65, 19, 92, 29, 50, 39, 18, 49, 79, 75, 23, 13, 46, 30, 48, 54, 3, 52, 83, 12, 61, 6, 95, 4, 96, 96, 72, 44, 37, 99, 81, 34, 53, 91, 84, 95, 47, 31, 78, 4, 65, 53, 36, 44, 59, 36, 47, 12, 22, 18, 69, 82, 15, 39, 36, 85, 97, 53, 7, 22, 5, 32, 50]\n"
     ]
    }
   ],
   "source": [
    "x0 = [np.random.randint(1,100) for i in range(1,10)]\n",
    "x1 = [np.random.randint(1,100) for i in range(1,10)]\n",
    "x2 = [np.random.randint(1,100) for i in range(1,10)]\n",
    "x3 = [np.random.randint(1,100) for i in range(1,10)]\n",
    "x4 = [np.random.randint(1,100) for i in range(1,10)]\n",
    "x5 = [np.random.randint(1,100) for i in range(1,10)]\n",
    "x6 = [np.random.randint(1,100) for i in range(1,10)]\n",
    "x7 = [np.random.randint(1,100) for i in range(1,10)]\n",
    "x8 = [np.random.randint(1,100) for i in range(1,10)]\n",
    "x9 = [np.random.randint(1,100) for i in range(1,10)]\n",
    "x = x0+x1+x2+x3+x4+x5+x6+x7+x8+x9\n",
    "num_bins= 20\n",
    "n, bins, patches = plt.hist (x, num_bins, normed =1, facecolor = 'red', alpha = 0.5)\n",
    "\n",
    "plt.show()\n",
    "\n",
    "print (x)\n"
   ]
  },
  {
   "cell_type": "markdown",
   "metadata": {},
   "source": [
    "### Задача 3¶\n",
    "Дополните код Монте-Карло последовательности независимых испытаний расчетом соответствующих вероятностей (через биномиальное распределение) и сравните результаты. Повторите расчеты, взяв другие значения n и k.\n"
   ]
  },
  {
   "cell_type": "code",
   "execution_count": 10,
   "metadata": {},
   "outputs": [
    {
     "name": "stdout",
     "output_type": "stream",
     "text": [
      "3836 10000 0.3836\n"
     ]
    }
   ],
   "source": [
    "import itertools\n",
    "import math\n",
    "k, n = 0, 10000\n",
    "a = np.random.randint(0, 2, n)\n",
    "b = np.random.randint(0, 2, n)\n",
    "c = np.random.randint(0, 2, n)\n",
    "d = np.random.randint(0, 2, n)\n",
    "x = a + b + c + d\n",
    "for i in range(0, n):\n",
    "    if x[i] == 2:\n",
    "        k += 1\n",
    "print (k, n, k/n)    \n"
   ]
  },
  {
   "cell_type": "code",
   "execution_count": 11,
   "metadata": {},
   "outputs": [
    {
     "name": "stdout",
     "output_type": "stream",
     "text": [
      "56.0 0.21875\n"
     ]
    }
   ],
   "source": [
    "n, k = 8, 3\n",
    "p = 0.5\n",
    "q = 1 - p\n",
    "C = math.factorial(n) / (math.factorial(k)* math.factorial(n-k))\n",
    "Pn = C * (p**k) * (q**(n-k))\n",
    "print(C, Pn)\n"
   ]
  },
  {
   "cell_type": "markdown",
   "metadata": {},
   "source": [
    "### Задание 4¶\n",
    "Повторите расчеты, взяв другие значения n и k.\n"
   ]
  },
  {
   "cell_type": "code",
   "execution_count": 12,
   "metadata": {},
   "outputs": [
    {
     "name": "stdout",
     "output_type": "stream",
     "text": [
      "9999\n",
      "9999\n",
      "9998\n",
      "9997\n",
      "9999\n",
      "9999\n",
      "9998\n",
      "9997\n",
      "9989\n",
      "9989\n",
      "9988\n",
      "9987\n",
      "9979\n",
      "9979\n",
      "9978\n",
      "9977\n",
      "9999\n",
      "9999\n",
      "9998\n",
      "9997\n",
      "9999\n",
      "9999\n",
      "9998\n",
      "9997\n",
      "9989\n",
      "9989\n",
      "9988\n",
      "9987\n",
      "9979\n",
      "9979\n",
      "9978\n",
      "9977\n",
      "9899\n",
      "9899\n",
      "9898\n",
      "9897\n",
      "9899\n",
      "9899\n",
      "9898\n",
      "9897\n",
      "9889\n",
      "9889\n",
      "9888\n",
      "9887\n",
      "9879\n",
      "9879\n",
      "9878\n",
      "9877\n",
      "9799\n",
      "9799\n",
      "9798\n",
      "9797\n",
      "9799\n",
      "9799\n",
      "9798\n",
      "9797\n",
      "9789\n",
      "9789\n",
      "9788\n",
      "9787\n",
      "9779\n",
      "9779\n",
      "9778\n",
      "9777\n",
      "9999\n",
      "9999\n",
      "9998\n",
      "9997\n",
      "9999\n",
      "9999\n",
      "9998\n",
      "9997\n",
      "9989\n",
      "9989\n",
      "9988\n",
      "9987\n",
      "9979\n",
      "9979\n",
      "9978\n",
      "9977\n",
      "9999\n",
      "9999\n",
      "9998\n",
      "9997\n",
      "9999\n",
      "9999\n",
      "9998\n",
      "9997\n",
      "9989\n",
      "9989\n",
      "9988\n",
      "9987\n",
      "9979\n",
      "9979\n",
      "9978\n",
      "9977\n",
      "9899\n",
      "9899\n",
      "9898\n",
      "9897\n",
      "9899\n",
      "9899\n",
      "9898\n",
      "9897\n",
      "9889\n",
      "9889\n",
      "9888\n",
      "9887\n",
      "9879\n",
      "9879\n",
      "9878\n",
      "9877\n",
      "9799\n",
      "9799\n",
      "9798\n",
      "9797\n",
      "9799\n",
      "9799\n",
      "9798\n",
      "9797\n",
      "9789\n",
      "9789\n",
      "9788\n",
      "9787\n",
      "9779\n",
      "9779\n",
      "9778\n",
      "9777\n",
      "8999\n",
      "8999\n",
      "8998\n",
      "8997\n",
      "8999\n",
      "8999\n",
      "8998\n",
      "8997\n",
      "8989\n",
      "8989\n",
      "8988\n",
      "8987\n",
      "8979\n",
      "8979\n",
      "8978\n",
      "8977\n",
      "8999\n",
      "8999\n",
      "8998\n",
      "8997\n",
      "8999\n",
      "8999\n",
      "8998\n",
      "8997\n",
      "8989\n",
      "8989\n",
      "8988\n",
      "8987\n",
      "8979\n",
      "8979\n",
      "8978\n",
      "8977\n",
      "8899\n",
      "8899\n",
      "8898\n",
      "8897\n",
      "8899\n",
      "8899\n",
      "8898\n",
      "8897\n",
      "8889\n",
      "8889\n",
      "8888\n",
      "8887\n",
      "8879\n",
      "8879\n",
      "8878\n",
      "8877\n",
      "8799\n",
      "8799\n",
      "8798\n",
      "8797\n",
      "8799\n",
      "8799\n",
      "8798\n",
      "8797\n",
      "8789\n",
      "8789\n",
      "8788\n",
      "8787\n",
      "8779\n",
      "8779\n",
      "8778\n",
      "8777\n",
      "7999\n",
      "7999\n",
      "7998\n",
      "7997\n",
      "7999\n",
      "7999\n",
      "7998\n",
      "7997\n",
      "7989\n",
      "7989\n",
      "7988\n",
      "7987\n",
      "7979\n",
      "7979\n",
      "7978\n",
      "7977\n",
      "7999\n",
      "7999\n",
      "7998\n",
      "7997\n",
      "7999\n",
      "7999\n",
      "7998\n",
      "7997\n",
      "7989\n",
      "7989\n",
      "7988\n",
      "7987\n",
      "7979\n",
      "7979\n",
      "7978\n",
      "7977\n",
      "7899\n",
      "7899\n",
      "7898\n",
      "7897\n",
      "7899\n",
      "7899\n",
      "7898\n",
      "7897\n",
      "7889\n",
      "7889\n",
      "7888\n",
      "7887\n",
      "7879\n",
      "7879\n",
      "7878\n",
      "7877\n",
      "7799\n",
      "7799\n",
      "7798\n",
      "7797\n",
      "7799\n",
      "7799\n",
      "7798\n",
      "7797\n",
      "7789\n",
      "7789\n",
      "7788\n",
      "7787\n",
      "7779\n",
      "7779\n",
      "7778\n",
      "7777\n",
      "9987\n",
      "9978\n",
      "9897\n",
      "9879\n",
      "9798\n",
      "9789\n",
      "9987\n",
      "9978\n",
      "9897\n",
      "9879\n",
      "9798\n",
      "9789\n",
      "8997\n",
      "8979\n",
      "8997\n",
      "8979\n",
      "8799\n",
      "8799\n",
      "7998\n",
      "7989\n",
      "7998\n",
      "7989\n",
      "7899\n",
      "7899\n"
     ]
    }
   ],
   "source": [
    "for p in itertools.product('9987', repeat = 4):\n",
    "    print(''.join(p))\n",
    "\n",
    "for p in itertools.permutations('9987', 4):\n",
    "    print(''.join(str(x) for x in p))\n"
   ]
  },
  {
   "cell_type": "code",
   "execution_count": 13,
   "metadata": {},
   "outputs": [
    {
     "data": {
      "image/png": "[encoded data removed]",
      "text/plain": [
       "<Figure size 432x288 with 1 Axes>"
      ]
     },
     "metadata": {
      "needs_background": "light"
     },
     "output_type": "display_data"
    },
    {
     "data": {
      "text/plain": [
       "array([[1.        , 0.82762204],\n",
       "       [0.82762204, 1.        ]])"
      ]
     },
     "execution_count": 13,
     "metadata": {},
     "output_type": "execute_result"
    }
   ],
   "source": [
    "n = 1000\n",
    "r = 0.6\n",
    "x = np.random.rand(n)\n",
    "y = r*x + (1-r)*np.random.rand(n)\n",
    "plt.plot(x,y,'o')\n",
    "plt.grid(True)\n",
    "plt.show()\n",
    "c = np.corrcoef(x,y)\n",
    "c\n"
   ]
  },
  {
   "cell_type": "code",
   "execution_count": 14,
   "metadata": {},
   "outputs": [
    {
     "name": "stdout",
     "output_type": "stream",
     "text": [
      "0.49286974713524323 0.49841424918331584 0.8276220405277318\n"
     ]
    }
   ],
   "source": [
    "xm = np.sum(x)/n\n",
    "ym = np.sum(y)/n\n",
    "x1 = x - xm\n",
    "y1 = y - ym\n",
    "Rxy = np.sum(x1*y1) / math.sqrt(np.sum(x1*x1) * np.sum(y1*y1))\n",
    "print (xm,ym,Rxy)\n"
   ]
  },
  {
   "cell_type": "code",
   "execution_count": null,
   "metadata": {},
   "outputs": [],
   "source": []
  }
 ],
 "metadata": {
  "kernelspec": {
   "display_name": "Python 3",
   "language": "python",
   "name": "python3"
  },
  "language_info": {
   "codemirror_mode": {
    "name": "ipython",
    "version": 3
   },
   "file_extension": ".py",
   "mimetype": "text/x-python",
   "name": "python",
   "nbconvert_exporter": "python",
   "pygments_lexer": "ipython3",
   "version": "3.7.1"
  }
 },
 "nbformat": 4,
 "nbformat_minor": 2
}
