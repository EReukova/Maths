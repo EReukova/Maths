{
 "cells": [
  {
   "cell_type": "code",
   "execution_count": 3,
   "metadata": {},
   "outputs": [],
   "source": [
    "import numpy as np"
   ]
  },
  {
   "cell_type": "code",
   "execution_count": 5,
   "metadata": {},
   "outputs": [],
   "source": [
    "a = {1, 2, 3, 4, 7, 10}\n",
    "b = {3, 4, 5, 10, 89,23}\n",
    "c = {4, 6, 7, 10, 55, 99, 124}"
   ]
  },
  {
   "cell_type": "code",
   "execution_count": 9,
   "metadata": {},
   "outputs": [
    {
     "data": {
      "text/plain": [
       "{4, 10}"
      ]
     },
     "execution_count": 9,
     "metadata": {},
     "output_type": "execute_result"
    }
   ],
   "source": [
    "a.intersection(b,c) #пересечение "
   ]
  },
  {
   "cell_type": "code",
   "execution_count": 10,
   "metadata": {},
   "outputs": [
    {
     "data": {
      "text/plain": [
       "{1, 2, 3, 4, 5, 6, 7, 10, 23, 55, 89, 99, 124}"
      ]
     },
     "execution_count": 10,
     "metadata": {},
     "output_type": "execute_result"
    }
   ],
   "source": [
    "a.union(b,c) #объединение "
   ]
  },
  {
   "cell_type": "code",
   "execution_count": 14,
   "metadata": {},
   "outputs": [
    {
     "data": {
      "text/plain": [
       "{1, 2, 5, 7, 23, 89}"
      ]
     },
     "execution_count": 14,
     "metadata": {},
     "output_type": "execute_result"
    }
   ],
   "source": [
    "a.symmetric_difference(b) #Возвращает симметрическую разность множеств A и B \n",
    "#(элементы, входящие в A или в B, но не в оба из них одновременно)."
   ]
  },
  {
   "cell_type": "code",
   "execution_count": 21,
   "metadata": {},
   "outputs": [
    {
     "data": {
      "text/plain": [
       "{1, 2, 5, 7, 23, 89}"
      ]
     },
     "execution_count": 21,
     "metadata": {},
     "output_type": "execute_result"
    }
   ],
   "source": [
    "a.symmetric_difference_update(c) #Записывает в A симметрическую разность множеств A и B.\n",
    "a"
   ]
  },
  {
   "cell_type": "code",
   "execution_count": 23,
   "metadata": {},
   "outputs": [
    {
     "data": {
      "text/plain": [
       "array([[ 1,  3],\n",
       "       [ 2,  3],\n",
       "       [ 3,  3],\n",
       "       [ 4,  3],\n",
       "       [ 7,  3],\n",
       "       [10,  3],\n",
       "       [ 1,  4],\n",
       "       [ 2,  4],\n",
       "       [ 3,  4],\n",
       "       [ 4,  4],\n",
       "       [ 7,  4],\n",
       "       [10,  4],\n",
       "       [ 1,  5],\n",
       "       [ 2,  5],\n",
       "       [ 3,  5],\n",
       "       [ 4,  5],\n",
       "       [ 7,  5],\n",
       "       [10,  5],\n",
       "       [ 1, 10],\n",
       "       [ 2, 10],\n",
       "       [ 3, 10],\n",
       "       [ 4, 10],\n",
       "       [ 7, 10],\n",
       "       [10, 10],\n",
       "       [ 1, 89],\n",
       "       [ 2, 89],\n",
       "       [ 3, 89],\n",
       "       [ 4, 89],\n",
       "       [ 7, 89],\n",
       "       [10, 89],\n",
       "       [ 1, 23],\n",
       "       [ 2, 23],\n",
       "       [ 3, 23],\n",
       "       [ 4, 23],\n",
       "       [ 7, 23],\n",
       "       [10, 23]])"
      ]
     },
     "execution_count": 23,
     "metadata": {},
     "output_type": "execute_result"
    }
   ],
   "source": [
    "x = np.array([1, 2, 3, 4, 7, 10]) #декартово произведение \n",
    "y = np.array([3, 4, 5, 10, 89, 23])\n",
    "np.transpose([np.tile(x, len(y)), np.repeat(y, len(x))])"
   ]
  },
  {
   "cell_type": "code",
   "execution_count": null,
   "metadata": {},
   "outputs": [],
   "source": []
  }
 ],
 "metadata": {
  "kernelspec": {
   "display_name": "Python 3",
   "language": "python",
   "name": "python3"
  },
  "language_info": {
   "codemirror_mode": {
    "name": "ipython",
    "version": 3
   },
   "file_extension": ".py",
   "mimetype": "text/x-python",
   "name": "python",
   "nbconvert_exporter": "python",
   "pygments_lexer": "ipython3",
   "version": "3.7.3"
  }
 },
 "nbformat": 4,
 "nbformat_minor": 2
}
